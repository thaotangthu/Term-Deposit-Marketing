{
 "cells": [
  {
   "cell_type": "markdown",
   "id": "f7c1f637",
   "metadata": {},
   "source": [
    "This project is to predict if the customer will subscribe (yes/no) to a term deposit (variable y).\n",
    "\n",
    "**Data Description:**\n",
    "\n",
    "- y - has the client subscribed to a term deposit? (binary) \n",
    "- age : age of customer (numeric)\n",
    "- job : type of job (categorical)\n",
    "- marital : marital status (categorical)\n",
    "- education (categorical)\n",
    "- default: has credit in default? (binary)\n",
    "- balance: average yearly balance, in euros (numeric)\n",
    "- housing: has a housing loan? (binary)\n",
    "- loan: has personal loan? (binary)\n",
    "- contact: contact communication type (categorical)\n",
    "- day: last contact day of the month (numeric)\n",
    "- month: last contact month of year (categorical)\n",
    "- duration: last contact duration, in seconds (numeric)\n",
    "- campaign: number of contacts performed during this campaign and for this client (numeric, includes last contact)\n"
   ]
  },
  {
   "cell_type": "markdown",
   "id": "aa3a1e09",
   "metadata": {},
   "source": [
    "# Table of contents\n",
    "- [EDA](#eda)\n",
    "    - [1. Check datatype & missing values](#nan)\n",
    "    - [2. Check duplicates](#dup)\n",
    "    - [3. Check class ratio](#classratio)\n",
    "    - [4. Data wrangling](#dw)\n",
    "    - [5. Check distribution](#distribution)\n",
    "    - [6. Check multicollinearity](#multicollinearity)\n",
    "- [Data Split](#datasplit)\n",
    "- [Modelling](#model)\n",
    "    - [1. Logistic Regression](#logit)\n",
    "    - [2. Decision Tree](#dt)\n",
    "    - [3. Random Forest](#rf)\n",
    "    - [4. XGB](#xgb)\n",
    "- [Conclusion](#conclusion)\n",
    "- [Feature Selection](#fs)\n",
    "- [Prioritized Segment](#ps)"
   ]
  },
  {
   "cell_type": "code",
   "execution_count": 33,
   "id": "9bfaf3f4",
   "metadata": {},
   "outputs": [],
   "source": [
    "import numpy as np\n",
    "import pandas as pd\n",
    "import matplotlib.pyplot as plt\n",
    "import seaborn as sns\n",
    "from imblearn.pipeline import make_pipeline\n",
    "from imblearn.over_sampling import RandomOverSampler\n",
    "from sklearn.metrics import classification_report, f1_score, accuracy_score\n",
    "\n",
    "from sklearn.model_selection import train_test_split, RandomizedSearchCV, StratifiedKFold\n",
    "from sklearn.preprocessing import OneHotEncoder, OrdinalEncoder\n",
    "from sklearn.compose import make_column_transformer, make_column_selector\n",
    "\n",
    "import warnings\n",
    "warnings.filterwarnings('ignore')\n",
    "\n",
    "from sklearn.linear_model import LogisticRegression\n",
    "from sklearn.ensemble import RandomForestClassifier\n",
    "from sklearn.tree import DecisionTreeClassifier\n",
    "from xgboost import XGBClassifier"
   ]
  },
  {
   "cell_type": "code",
   "execution_count": 2,
   "id": "8bb267d0",
   "metadata": {},
   "outputs": [
    {
     "data": {
      "text/html": [
       "<div>\n",
       "<style scoped>\n",
       "    .dataframe tbody tr th:only-of-type {\n",
       "        vertical-align: middle;\n",
       "    }\n",
       "\n",
       "    .dataframe tbody tr th {\n",
       "        vertical-align: top;\n",
       "    }\n",
       "\n",
       "    .dataframe thead th {\n",
       "        text-align: right;\n",
       "    }\n",
       "</style>\n",
       "<table border=\"1\" class=\"dataframe\">\n",
       "  <thead>\n",
       "    <tr style=\"text-align: right;\">\n",
       "      <th></th>\n",
       "      <th>age</th>\n",
       "      <th>job</th>\n",
       "      <th>marital</th>\n",
       "      <th>education</th>\n",
       "      <th>default</th>\n",
       "      <th>balance</th>\n",
       "      <th>housing</th>\n",
       "      <th>loan</th>\n",
       "      <th>contact</th>\n",
       "      <th>day</th>\n",
       "      <th>month</th>\n",
       "      <th>duration</th>\n",
       "      <th>campaign</th>\n",
       "      <th>y</th>\n",
       "    </tr>\n",
       "  </thead>\n",
       "  <tbody>\n",
       "    <tr>\n",
       "      <th>0</th>\n",
       "      <td>58</td>\n",
       "      <td>management</td>\n",
       "      <td>married</td>\n",
       "      <td>tertiary</td>\n",
       "      <td>no</td>\n",
       "      <td>2143</td>\n",
       "      <td>yes</td>\n",
       "      <td>no</td>\n",
       "      <td>unknown</td>\n",
       "      <td>5</td>\n",
       "      <td>may</td>\n",
       "      <td>261</td>\n",
       "      <td>1</td>\n",
       "      <td>no</td>\n",
       "    </tr>\n",
       "    <tr>\n",
       "      <th>1</th>\n",
       "      <td>44</td>\n",
       "      <td>technician</td>\n",
       "      <td>single</td>\n",
       "      <td>secondary</td>\n",
       "      <td>no</td>\n",
       "      <td>29</td>\n",
       "      <td>yes</td>\n",
       "      <td>no</td>\n",
       "      <td>unknown</td>\n",
       "      <td>5</td>\n",
       "      <td>may</td>\n",
       "      <td>151</td>\n",
       "      <td>1</td>\n",
       "      <td>no</td>\n",
       "    </tr>\n",
       "    <tr>\n",
       "      <th>2</th>\n",
       "      <td>33</td>\n",
       "      <td>entrepreneur</td>\n",
       "      <td>married</td>\n",
       "      <td>secondary</td>\n",
       "      <td>no</td>\n",
       "      <td>2</td>\n",
       "      <td>yes</td>\n",
       "      <td>yes</td>\n",
       "      <td>unknown</td>\n",
       "      <td>5</td>\n",
       "      <td>may</td>\n",
       "      <td>76</td>\n",
       "      <td>1</td>\n",
       "      <td>no</td>\n",
       "    </tr>\n",
       "    <tr>\n",
       "      <th>3</th>\n",
       "      <td>47</td>\n",
       "      <td>blue-collar</td>\n",
       "      <td>married</td>\n",
       "      <td>unknown</td>\n",
       "      <td>no</td>\n",
       "      <td>1506</td>\n",
       "      <td>yes</td>\n",
       "      <td>no</td>\n",
       "      <td>unknown</td>\n",
       "      <td>5</td>\n",
       "      <td>may</td>\n",
       "      <td>92</td>\n",
       "      <td>1</td>\n",
       "      <td>no</td>\n",
       "    </tr>\n",
       "    <tr>\n",
       "      <th>4</th>\n",
       "      <td>33</td>\n",
       "      <td>unknown</td>\n",
       "      <td>single</td>\n",
       "      <td>unknown</td>\n",
       "      <td>no</td>\n",
       "      <td>1</td>\n",
       "      <td>no</td>\n",
       "      <td>no</td>\n",
       "      <td>unknown</td>\n",
       "      <td>5</td>\n",
       "      <td>may</td>\n",
       "      <td>198</td>\n",
       "      <td>1</td>\n",
       "      <td>no</td>\n",
       "    </tr>\n",
       "  </tbody>\n",
       "</table>\n",
       "</div>"
      ],
      "text/plain": [
       "   age           job  marital  education default  balance housing loan  \\\n",
       "0   58    management  married   tertiary      no     2143     yes   no   \n",
       "1   44    technician   single  secondary      no       29     yes   no   \n",
       "2   33  entrepreneur  married  secondary      no        2     yes  yes   \n",
       "3   47   blue-collar  married    unknown      no     1506     yes   no   \n",
       "4   33       unknown   single    unknown      no        1      no   no   \n",
       "\n",
       "   contact  day month  duration  campaign   y  \n",
       "0  unknown    5   may       261         1  no  \n",
       "1  unknown    5   may       151         1  no  \n",
       "2  unknown    5   may        76         1  no  \n",
       "3  unknown    5   may        92         1  no  \n",
       "4  unknown    5   may       198         1  no  "
      ]
     },
     "execution_count": 2,
     "metadata": {},
     "output_type": "execute_result"
    }
   ],
   "source": [
    "df=pd.read_csv('term-deposit-marketing-2020.csv')\n",
    "df.head()"
   ]
  },
  {
   "cell_type": "code",
   "execution_count": 3,
   "id": "3ac72735",
   "metadata": {},
   "outputs": [
    {
     "name": "stdout",
     "output_type": "stream",
     "text": [
      " This dataset has 40000 rows and 14 columns.\n"
     ]
    }
   ],
   "source": [
    "print(f' This dataset has {df.shape[0]} rows and {df.shape[1]} columns.')"
   ]
  },
  {
   "cell_type": "markdown",
   "id": "18df422f",
   "metadata": {},
   "source": [
    "# EDA <a class=\"anchor\" id=\"eda\"></a>"
   ]
  },
  {
   "cell_type": "markdown",
   "id": "f4bf469b",
   "metadata": {},
   "source": [
    "### 1. Check datatype & missing values <a class=\"anchor\" id=\"nan\"></a>"
   ]
  },
  {
   "cell_type": "code",
   "execution_count": 4,
   "id": "6dd4b8d7",
   "metadata": {},
   "outputs": [
    {
     "name": "stdout",
     "output_type": "stream",
     "text": [
      "<class 'pandas.core.frame.DataFrame'>\n",
      "RangeIndex: 40000 entries, 0 to 39999\n",
      "Data columns (total 14 columns):\n",
      " #   Column     Non-Null Count  Dtype \n",
      "---  ------     --------------  ----- \n",
      " 0   age        40000 non-null  int64 \n",
      " 1   job        40000 non-null  object\n",
      " 2   marital    40000 non-null  object\n",
      " 3   education  40000 non-null  object\n",
      " 4   default    40000 non-null  object\n",
      " 5   balance    40000 non-null  int64 \n",
      " 6   housing    40000 non-null  object\n",
      " 7   loan       40000 non-null  object\n",
      " 8   contact    40000 non-null  object\n",
      " 9   day        40000 non-null  int64 \n",
      " 10  month      40000 non-null  object\n",
      " 11  duration   40000 non-null  int64 \n",
      " 12  campaign   40000 non-null  int64 \n",
      " 13  y          40000 non-null  object\n",
      "dtypes: int64(5), object(9)\n",
      "memory usage: 4.3+ MB\n"
     ]
    }
   ],
   "source": [
    "df.info()"
   ]
  },
  {
   "cell_type": "code",
   "execution_count": 5,
   "id": "9458e650",
   "metadata": {
    "scrolled": false
   },
   "outputs": [
    {
     "data": {
      "text/plain": [
       "age          0\n",
       "job          0\n",
       "marital      0\n",
       "education    0\n",
       "default      0\n",
       "balance      0\n",
       "housing      0\n",
       "loan         0\n",
       "contact      0\n",
       "day          0\n",
       "month        0\n",
       "duration     0\n",
       "campaign     0\n",
       "y            0\n",
       "dtype: int64"
      ]
     },
     "execution_count": 5,
     "metadata": {},
     "output_type": "execute_result"
    }
   ],
   "source": [
    "df.isna().sum()"
   ]
  },
  {
   "cell_type": "markdown",
   "id": "603145fc",
   "metadata": {},
   "source": [
    "### 2. Check duplicates <a class=\"anchor\" id=\"dup\"></a>"
   ]
  },
  {
   "cell_type": "code",
   "execution_count": 6,
   "id": "77068ab7",
   "metadata": {
    "scrolled": false
   },
   "outputs": [
    {
     "data": {
      "text/plain": [
       "0"
      ]
     },
     "execution_count": 6,
     "metadata": {},
     "output_type": "execute_result"
    }
   ],
   "source": [
    "df.duplicated().sum()"
   ]
  },
  {
   "cell_type": "markdown",
   "id": "dd1a0251",
   "metadata": {},
   "source": [
    "### 3. Check class ratio <a class=\"anchor\" id=\"classratio\"></a>"
   ]
  },
  {
   "cell_type": "code",
   "execution_count": 7,
   "id": "c688cdcf",
   "metadata": {
    "scrolled": true
   },
   "outputs": [
    {
     "data": {
      "text/plain": [
       "no     0.9276\n",
       "yes    0.0724\n",
       "Name: y, dtype: float64"
      ]
     },
     "execution_count": 7,
     "metadata": {},
     "output_type": "execute_result"
    }
   ],
   "source": [
    "# check class ratio\n",
    "df['y'].value_counts(normalize=True)"
   ]
  },
  {
   "cell_type": "markdown",
   "id": "2180ddc7",
   "metadata": {},
   "source": [
    "The dataset is heavily imbalanced. To deal with this, in terms of models, Decision trees frequently perform well on imbalanced data. However, tree ensembles (Random Forests, Gradient Boosted Trees, etc.) almost always outperform singular decision trees, so they will be candidates worth considering. Regarding approach, we would upsample the minority class, then optimize for **F1** score with `class_weight` hyperparameter."
   ]
  },
  {
   "cell_type": "markdown",
   "id": "c0e73496",
   "metadata": {},
   "source": [
    "### 4. Data wrangling <a class=\"anchor\" id=\"dw\"></a>"
   ]
  },
  {
   "cell_type": "code",
   "execution_count": 8,
   "id": "70cfe8f6",
   "metadata": {},
   "outputs": [
    {
     "data": {
      "text/html": [
       "<div>\n",
       "<style scoped>\n",
       "    .dataframe tbody tr th:only-of-type {\n",
       "        vertical-align: middle;\n",
       "    }\n",
       "\n",
       "    .dataframe tbody tr th {\n",
       "        vertical-align: top;\n",
       "    }\n",
       "\n",
       "    .dataframe thead th {\n",
       "        text-align: right;\n",
       "    }\n",
       "</style>\n",
       "<table border=\"1\" class=\"dataframe\">\n",
       "  <thead>\n",
       "    <tr style=\"text-align: right;\">\n",
       "      <th></th>\n",
       "      <th>age</th>\n",
       "      <th>job</th>\n",
       "      <th>marital</th>\n",
       "      <th>education</th>\n",
       "      <th>default</th>\n",
       "      <th>balance</th>\n",
       "      <th>housing</th>\n",
       "      <th>loan</th>\n",
       "      <th>contact</th>\n",
       "      <th>day</th>\n",
       "      <th>month</th>\n",
       "      <th>duration</th>\n",
       "      <th>campaign</th>\n",
       "      <th>y</th>\n",
       "    </tr>\n",
       "  </thead>\n",
       "  <tbody>\n",
       "    <tr>\n",
       "      <th>0</th>\n",
       "      <td>58</td>\n",
       "      <td>management</td>\n",
       "      <td>married</td>\n",
       "      <td>tertiary</td>\n",
       "      <td>no</td>\n",
       "      <td>2143</td>\n",
       "      <td>yes</td>\n",
       "      <td>no</td>\n",
       "      <td>unknown</td>\n",
       "      <td>5</td>\n",
       "      <td>may</td>\n",
       "      <td>261</td>\n",
       "      <td>1</td>\n",
       "      <td>no</td>\n",
       "    </tr>\n",
       "    <tr>\n",
       "      <th>1</th>\n",
       "      <td>44</td>\n",
       "      <td>technician</td>\n",
       "      <td>single</td>\n",
       "      <td>secondary</td>\n",
       "      <td>no</td>\n",
       "      <td>29</td>\n",
       "      <td>yes</td>\n",
       "      <td>no</td>\n",
       "      <td>unknown</td>\n",
       "      <td>5</td>\n",
       "      <td>may</td>\n",
       "      <td>151</td>\n",
       "      <td>1</td>\n",
       "      <td>no</td>\n",
       "    </tr>\n",
       "    <tr>\n",
       "      <th>2</th>\n",
       "      <td>33</td>\n",
       "      <td>entrepreneur</td>\n",
       "      <td>married</td>\n",
       "      <td>secondary</td>\n",
       "      <td>no</td>\n",
       "      <td>2</td>\n",
       "      <td>yes</td>\n",
       "      <td>yes</td>\n",
       "      <td>unknown</td>\n",
       "      <td>5</td>\n",
       "      <td>may</td>\n",
       "      <td>76</td>\n",
       "      <td>1</td>\n",
       "      <td>no</td>\n",
       "    </tr>\n",
       "    <tr>\n",
       "      <th>3</th>\n",
       "      <td>47</td>\n",
       "      <td>blue-collar</td>\n",
       "      <td>married</td>\n",
       "      <td>unknown</td>\n",
       "      <td>no</td>\n",
       "      <td>1506</td>\n",
       "      <td>yes</td>\n",
       "      <td>no</td>\n",
       "      <td>unknown</td>\n",
       "      <td>5</td>\n",
       "      <td>may</td>\n",
       "      <td>92</td>\n",
       "      <td>1</td>\n",
       "      <td>no</td>\n",
       "    </tr>\n",
       "    <tr>\n",
       "      <th>4</th>\n",
       "      <td>33</td>\n",
       "      <td>unknown</td>\n",
       "      <td>single</td>\n",
       "      <td>unknown</td>\n",
       "      <td>no</td>\n",
       "      <td>1</td>\n",
       "      <td>no</td>\n",
       "      <td>no</td>\n",
       "      <td>unknown</td>\n",
       "      <td>5</td>\n",
       "      <td>may</td>\n",
       "      <td>198</td>\n",
       "      <td>1</td>\n",
       "      <td>no</td>\n",
       "    </tr>\n",
       "  </tbody>\n",
       "</table>\n",
       "</div>"
      ],
      "text/plain": [
       "   age           job  marital  education default  balance housing loan  \\\n",
       "0   58    management  married   tertiary      no     2143     yes   no   \n",
       "1   44    technician   single  secondary      no       29     yes   no   \n",
       "2   33  entrepreneur  married  secondary      no        2     yes  yes   \n",
       "3   47   blue-collar  married    unknown      no     1506     yes   no   \n",
       "4   33       unknown   single    unknown      no        1      no   no   \n",
       "\n",
       "   contact  day month  duration  campaign   y  \n",
       "0  unknown    5   may       261         1  no  \n",
       "1  unknown    5   may       151         1  no  \n",
       "2  unknown    5   may        76         1  no  \n",
       "3  unknown    5   may        92         1  no  \n",
       "4  unknown    5   may       198         1  no  "
      ]
     },
     "execution_count": 8,
     "metadata": {},
     "output_type": "execute_result"
    }
   ],
   "source": [
    "df.head()"
   ]
  },
  {
   "cell_type": "code",
   "execution_count": 9,
   "id": "e65a772b",
   "metadata": {},
   "outputs": [
    {
     "data": {
      "text/html": [
       "<div>\n",
       "<style scoped>\n",
       "    .dataframe tbody tr th:only-of-type {\n",
       "        vertical-align: middle;\n",
       "    }\n",
       "\n",
       "    .dataframe tbody tr th {\n",
       "        vertical-align: top;\n",
       "    }\n",
       "\n",
       "    .dataframe thead th {\n",
       "        text-align: right;\n",
       "    }\n",
       "</style>\n",
       "<table border=\"1\" class=\"dataframe\">\n",
       "  <thead>\n",
       "    <tr style=\"text-align: right;\">\n",
       "      <th></th>\n",
       "      <th>age</th>\n",
       "      <th>job</th>\n",
       "      <th>marital</th>\n",
       "      <th>education</th>\n",
       "      <th>default</th>\n",
       "      <th>balance</th>\n",
       "      <th>housing</th>\n",
       "      <th>loan</th>\n",
       "      <th>contact</th>\n",
       "      <th>day</th>\n",
       "      <th>month</th>\n",
       "      <th>duration</th>\n",
       "      <th>campaign</th>\n",
       "      <th>y</th>\n",
       "    </tr>\n",
       "  </thead>\n",
       "  <tbody>\n",
       "    <tr>\n",
       "      <th>0</th>\n",
       "      <td>58</td>\n",
       "      <td>management</td>\n",
       "      <td>married</td>\n",
       "      <td>tertiary</td>\n",
       "      <td>0</td>\n",
       "      <td>2143</td>\n",
       "      <td>1</td>\n",
       "      <td>0</td>\n",
       "      <td>unknown</td>\n",
       "      <td>5</td>\n",
       "      <td>may</td>\n",
       "      <td>261</td>\n",
       "      <td>1</td>\n",
       "      <td>0</td>\n",
       "    </tr>\n",
       "    <tr>\n",
       "      <th>1</th>\n",
       "      <td>44</td>\n",
       "      <td>technician</td>\n",
       "      <td>single</td>\n",
       "      <td>secondary</td>\n",
       "      <td>0</td>\n",
       "      <td>29</td>\n",
       "      <td>1</td>\n",
       "      <td>0</td>\n",
       "      <td>unknown</td>\n",
       "      <td>5</td>\n",
       "      <td>may</td>\n",
       "      <td>151</td>\n",
       "      <td>1</td>\n",
       "      <td>0</td>\n",
       "    </tr>\n",
       "    <tr>\n",
       "      <th>2</th>\n",
       "      <td>33</td>\n",
       "      <td>entrepreneur</td>\n",
       "      <td>married</td>\n",
       "      <td>secondary</td>\n",
       "      <td>0</td>\n",
       "      <td>2</td>\n",
       "      <td>1</td>\n",
       "      <td>1</td>\n",
       "      <td>unknown</td>\n",
       "      <td>5</td>\n",
       "      <td>may</td>\n",
       "      <td>76</td>\n",
       "      <td>1</td>\n",
       "      <td>0</td>\n",
       "    </tr>\n",
       "    <tr>\n",
       "      <th>3</th>\n",
       "      <td>47</td>\n",
       "      <td>blue-collar</td>\n",
       "      <td>married</td>\n",
       "      <td>unknown</td>\n",
       "      <td>0</td>\n",
       "      <td>1506</td>\n",
       "      <td>1</td>\n",
       "      <td>0</td>\n",
       "      <td>unknown</td>\n",
       "      <td>5</td>\n",
       "      <td>may</td>\n",
       "      <td>92</td>\n",
       "      <td>1</td>\n",
       "      <td>0</td>\n",
       "    </tr>\n",
       "    <tr>\n",
       "      <th>4</th>\n",
       "      <td>33</td>\n",
       "      <td>unknown</td>\n",
       "      <td>single</td>\n",
       "      <td>unknown</td>\n",
       "      <td>0</td>\n",
       "      <td>1</td>\n",
       "      <td>0</td>\n",
       "      <td>0</td>\n",
       "      <td>unknown</td>\n",
       "      <td>5</td>\n",
       "      <td>may</td>\n",
       "      <td>198</td>\n",
       "      <td>1</td>\n",
       "      <td>0</td>\n",
       "    </tr>\n",
       "  </tbody>\n",
       "</table>\n",
       "</div>"
      ],
      "text/plain": [
       "   age           job  marital  education  default  balance  housing  loan  \\\n",
       "0   58    management  married   tertiary        0     2143        1     0   \n",
       "1   44    technician   single  secondary        0       29        1     0   \n",
       "2   33  entrepreneur  married  secondary        0        2        1     1   \n",
       "3   47   blue-collar  married    unknown        0     1506        1     0   \n",
       "4   33       unknown   single    unknown        0        1        0     0   \n",
       "\n",
       "   contact  day month  duration  campaign  y  \n",
       "0  unknown    5   may       261         1  0  \n",
       "1  unknown    5   may       151         1  0  \n",
       "2  unknown    5   may        76         1  0  \n",
       "3  unknown    5   may        92         1  0  \n",
       "4  unknown    5   may       198         1  0  "
      ]
     },
     "execution_count": 9,
     "metadata": {},
     "output_type": "execute_result"
    }
   ],
   "source": [
    "# binary mapping for yes-no columns\n",
    "for i in ['default','housing','loan','y']:\n",
    "    df[i]=df[i].map({'yes': 1, 'no': 0})\n",
    "\n",
    "# sanity check\n",
    "df.head()    "
   ]
  },
  {
   "cell_type": "code",
   "execution_count": 10,
   "id": "9cd29b39",
   "metadata": {},
   "outputs": [
    {
     "data": {
      "text/html": [
       "<div>\n",
       "<style scoped>\n",
       "    .dataframe tbody tr th:only-of-type {\n",
       "        vertical-align: middle;\n",
       "    }\n",
       "\n",
       "    .dataframe tbody tr th {\n",
       "        vertical-align: top;\n",
       "    }\n",
       "\n",
       "    .dataframe thead th {\n",
       "        text-align: right;\n",
       "    }\n",
       "</style>\n",
       "<table border=\"1\" class=\"dataframe\">\n",
       "  <thead>\n",
       "    <tr style=\"text-align: right;\">\n",
       "      <th></th>\n",
       "      <th>age</th>\n",
       "      <th>job</th>\n",
       "      <th>marital</th>\n",
       "      <th>education</th>\n",
       "      <th>default</th>\n",
       "      <th>balance</th>\n",
       "      <th>housing</th>\n",
       "      <th>loan</th>\n",
       "      <th>contact</th>\n",
       "      <th>day</th>\n",
       "      <th>month</th>\n",
       "      <th>duration</th>\n",
       "      <th>campaign</th>\n",
       "      <th>y</th>\n",
       "    </tr>\n",
       "  </thead>\n",
       "  <tbody>\n",
       "    <tr>\n",
       "      <th>0</th>\n",
       "      <td>58</td>\n",
       "      <td>management</td>\n",
       "      <td>married</td>\n",
       "      <td>tertiary</td>\n",
       "      <td>0</td>\n",
       "      <td>2143</td>\n",
       "      <td>1</td>\n",
       "      <td>0</td>\n",
       "      <td>unknown</td>\n",
       "      <td>5</td>\n",
       "      <td>5</td>\n",
       "      <td>261</td>\n",
       "      <td>1</td>\n",
       "      <td>0</td>\n",
       "    </tr>\n",
       "    <tr>\n",
       "      <th>1</th>\n",
       "      <td>44</td>\n",
       "      <td>technician</td>\n",
       "      <td>single</td>\n",
       "      <td>secondary</td>\n",
       "      <td>0</td>\n",
       "      <td>29</td>\n",
       "      <td>1</td>\n",
       "      <td>0</td>\n",
       "      <td>unknown</td>\n",
       "      <td>5</td>\n",
       "      <td>5</td>\n",
       "      <td>151</td>\n",
       "      <td>1</td>\n",
       "      <td>0</td>\n",
       "    </tr>\n",
       "    <tr>\n",
       "      <th>2</th>\n",
       "      <td>33</td>\n",
       "      <td>entrepreneur</td>\n",
       "      <td>married</td>\n",
       "      <td>secondary</td>\n",
       "      <td>0</td>\n",
       "      <td>2</td>\n",
       "      <td>1</td>\n",
       "      <td>1</td>\n",
       "      <td>unknown</td>\n",
       "      <td>5</td>\n",
       "      <td>5</td>\n",
       "      <td>76</td>\n",
       "      <td>1</td>\n",
       "      <td>0</td>\n",
       "    </tr>\n",
       "    <tr>\n",
       "      <th>3</th>\n",
       "      <td>47</td>\n",
       "      <td>blue-collar</td>\n",
       "      <td>married</td>\n",
       "      <td>unknown</td>\n",
       "      <td>0</td>\n",
       "      <td>1506</td>\n",
       "      <td>1</td>\n",
       "      <td>0</td>\n",
       "      <td>unknown</td>\n",
       "      <td>5</td>\n",
       "      <td>5</td>\n",
       "      <td>92</td>\n",
       "      <td>1</td>\n",
       "      <td>0</td>\n",
       "    </tr>\n",
       "    <tr>\n",
       "      <th>4</th>\n",
       "      <td>33</td>\n",
       "      <td>unknown</td>\n",
       "      <td>single</td>\n",
       "      <td>unknown</td>\n",
       "      <td>0</td>\n",
       "      <td>1</td>\n",
       "      <td>0</td>\n",
       "      <td>0</td>\n",
       "      <td>unknown</td>\n",
       "      <td>5</td>\n",
       "      <td>5</td>\n",
       "      <td>198</td>\n",
       "      <td>1</td>\n",
       "      <td>0</td>\n",
       "    </tr>\n",
       "  </tbody>\n",
       "</table>\n",
       "</div>"
      ],
      "text/plain": [
       "   age           job  marital  education  default  balance  housing  loan  \\\n",
       "0   58    management  married   tertiary        0     2143        1     0   \n",
       "1   44    technician   single  secondary        0       29        1     0   \n",
       "2   33  entrepreneur  married  secondary        0        2        1     1   \n",
       "3   47   blue-collar  married    unknown        0     1506        1     0   \n",
       "4   33       unknown   single    unknown        0        1        0     0   \n",
       "\n",
       "   contact  day  month  duration  campaign  y  \n",
       "0  unknown    5      5       261         1  0  \n",
       "1  unknown    5      5       151         1  0  \n",
       "2  unknown    5      5        76         1  0  \n",
       "3  unknown    5      5        92         1  0  \n",
       "4  unknown    5      5       198         1  0  "
      ]
     },
     "execution_count": 10,
     "metadata": {},
     "output_type": "execute_result"
    }
   ],
   "source": [
    "# turn month to numeric value\n",
    "df['month']=df['month'].map({'may': 5, 'jun': 6, 'jul': 7, 'aug': 8, 'sep': 9, 'oct': 10,\\\n",
    "             'nov': 11, 'dec': 12, 'jan': 1, 'feb': 2, 'mar': 3, 'apr': 4})\n",
    "\n",
    "# sanity check\n",
    "df.head()"
   ]
  },
  {
   "cell_type": "markdown",
   "id": "48b7dcf2",
   "metadata": {},
   "source": [
    "### 5. Check distribution <a class=\"anchor\" id=\"distribution\"></a>"
   ]
  },
  {
   "cell_type": "code",
   "execution_count": 11,
   "id": "bcda9cf6",
   "metadata": {
    "scrolled": true
   },
   "outputs": [
    {
     "data": {
      "image/png": "[encoded data removed]",
      "text/plain": [
       "<Figure size 640x480 with 1 Axes>"
      ]
     },
     "metadata": {},
     "output_type": "display_data"
    }
   ],
   "source": [
    "sns.boxplot(data=df, orient=\"h\");"
   ]
  },
  {
   "cell_type": "markdown",
   "id": "9be28bf6",
   "metadata": {},
   "source": [
    "We see that `balance` is heavily right-skewed."
   ]
  },
  {
   "cell_type": "markdown",
   "id": "f39ae3d9",
   "metadata": {},
   "source": [
    "### 6. Check multicollinearity <a class=\"anchor\" id=\"multicollinearity\"></a>\n"
   ]
  },
  {
   "cell_type": "code",
   "execution_count": 12,
   "id": "112e6c73",
   "metadata": {},
   "outputs": [
    {
     "data": {
      "image/png": "[encoded data removed]",
      "text/plain": [
       "<Figure size 900x300 with 2 Axes>"
      ]
     },
     "metadata": {},
     "output_type": "display_data"
    }
   ],
   "source": [
    "# heatmap of correlation\n",
    "plt.figure(figsize=(9,3))\n",
    "matrix = np.triu(df.drop(columns='y').corr())\n",
    "sns.heatmap(df.drop(columns='y').corr(), annot=True, mask=matrix, cmap='coolwarm')\n",
    "plt.show()"
   ]
  },
  {
   "cell_type": "markdown",
   "id": "c9df34b7",
   "metadata": {},
   "source": [
    "We see no multicollinearity between the variables, therefore no action is required."
   ]
  },
  {
   "cell_type": "markdown",
   "id": "d6776b55",
   "metadata": {},
   "source": [
    "# Data Split <a class=\"anchor\" id=\"datasplit\"></a>"
   ]
  },
  {
   "cell_type": "code",
   "execution_count": 13,
   "id": "163fdb5e",
   "metadata": {},
   "outputs": [],
   "source": [
    "X=df.drop(columns='y')\n",
    "y=df['y']"
   ]
  },
  {
   "cell_type": "code",
   "execution_count": 14,
   "id": "89d64417",
   "metadata": {},
   "outputs": [],
   "source": [
    "X_train, X_test, y_train, y_test = train_test_split(X, y, test_size=0.2, stratify=y, random_state=1)"
   ]
  },
  {
   "cell_type": "code",
   "execution_count": 15,
   "id": "b8994b05",
   "metadata": {},
   "outputs": [
    {
     "data": {
      "text/plain": [
       "(32000, 13)"
      ]
     },
     "execution_count": 15,
     "metadata": {},
     "output_type": "execute_result"
    }
   ],
   "source": [
    "X_train.shape"
   ]
  },
  {
   "cell_type": "code",
   "execution_count": 16,
   "id": "604bc345",
   "metadata": {},
   "outputs": [
    {
     "data": {
      "text/plain": [
       "(8000, 13)"
      ]
     },
     "execution_count": 16,
     "metadata": {},
     "output_type": "execute_result"
    }
   ],
   "source": [
    "X_test.shape"
   ]
  },
  {
   "cell_type": "markdown",
   "id": "9c92f58d",
   "metadata": {},
   "source": [
    "# Modelling <a class=\"anchor\" id=\"model\"></a>"
   ]
  },
  {
   "cell_type": "markdown",
   "id": "873c5306",
   "metadata": {},
   "source": [
    "## 1. Logistic Regression <a class=\"anchor\" id=\"logit\"></a>"
   ]
  },
  {
   "cell_type": "code",
   "execution_count": 17,
   "id": "3cc57fcf",
   "metadata": {},
   "outputs": [
    {
     "name": "stdout",
     "output_type": "stream",
     "text": [
      "Fitting 5 folds for each of 10 candidates, totalling 50 fits\n",
      "\n",
      "Best param: {'randomoversampler__sampling_strategy': 0.3333333333333333, 'logisticregression__solver': 'newton-cg', 'logisticregression__penalty': 'l2', 'logisticregression__class_weight': None, 'logisticregression__C': 10}\n",
      "\n",
      "Mean validation's F1 score: nan\n",
      "\n",
      "Train accuracy: 0.919\n",
      "Test accuracy: 0.914\n",
      "Accuracy difference: 0.005\n"
     ]
    }
   ],
   "source": [
    "kf = StratifiedKFold(n_splits=5, shuffle=True, random_state=11)\n",
    "\n",
    "imba_pipeline = make_pipeline(\n",
    "            RandomOverSampler(random_state=101),        \n",
    "            make_column_transformer((OneHotEncoder(drop = 'first'), \n",
    "                                    make_column_selector(dtype_include=object)),\n",
    "                                    remainder='passthrough'),\n",
    "            LogisticRegression(random_state=11, max_iter=1000))\n",
    "\n",
    "param_grid = [{'logisticregression__solver':['lbfgs'],\n",
    "               'logisticregression__penalty':['l2', 'None'],\n",
    "               'logisticregression__C': [10**i for i in range (-4,4)],\n",
    "               'logisticregression__class_weight': [{0:1,1:2},{0:1,1:3}, {0:1,1:4}, None],\n",
    "               'randomoversampler__sampling_strategy': [1/2,1/3,1/4]},\n",
    "              \n",
    "              {'logisticregression__solver':['liblinear'],\n",
    "               'logisticregression__penalty':['l1', 'l2'],\n",
    "               'logisticregression__C': [10**i for i in range (-4,4)],\n",
    "               'logisticregression__class_weight': [{0:1,1:2},{0:1,1:3}, {0:1,1:4}, None],\n",
    "               'randomoversampler__sampling_strategy': [1/2,1/3,1/4]}, \n",
    "              \n",
    "              {'logisticregression__solver':['newton-cg'],\n",
    "               'logisticregression__penalty':['l2', 'None'],\n",
    "               'logisticregression__C': [10**i for i in range (-4,4)],\n",
    "               'logisticregression__class_weight': [{0:1,1:2},{0:1,1:3}, {0:1,1:4}, None],\n",
    "               'randomoversampler__sampling_strategy': [1/2,1/3,1/4]}, \n",
    "              \n",
    "              {'logisticregression__solver':['sag'],\n",
    "               'logisticregression__penalty':['l2', 'None'],\n",
    "               'logisticregression__C': [10**i for i in range (-4,4)],\n",
    "               'logisticregression__class_weight': [{0:1,1:2},{0:1,1:3}, {0:1,1:4}, None],\n",
    "               'randomoversampler__sampling_strategy': [1/2,1/3,1/4]}, \n",
    "              \n",
    "              {'logisticregression__solver':['saga'],\n",
    "               'logisticregression__penalty':['l1', 'l2', 'elasticnet', 'None'],\n",
    "               'logisticregression__C': [10**i for i in range (-4,4)],\n",
    "               'logisticregression__class_weight': [{0:1,1:2},{0:1,1:3}, {0:1,1:4}, None],\n",
    "               'randomoversampler__sampling_strategy': [1/2,1/3,1/4]} ]\n",
    "\n",
    "logit = RandomizedSearchCV(imba_pipeline, param_grid, scoring='f1', cv=kf, n_jobs = -1, verbose=1, random_state=545)\n",
    "logit_fitted = logit.fit(X_train, y_train)\n",
    "\n",
    "print(f'\\nBest param: {logit_fitted.best_params_}')\n",
    "\n",
    "# mean validation score\n",
    "print(f\"\\nMean validation's F1 score: {logit_fitted.cv_results_['mean_test_score'].mean()}\")\n",
    "\n",
    "# score\n",
    "print('\\nTrain accuracy: %.3f' % accuracy_score(y_train, logit_fitted.predict(X_train)))\n",
    "print('Test accuracy: %.3f' % accuracy_score(y_test, logit_fitted.predict(X_test)))\n",
    "print('Accuracy difference: %.3f' % (accuracy_score(y_train, logit_fitted.predict(X_train))-accuracy_score(y_test, logit_fitted.predict(X_test))).round(4))"
   ]
  },
  {
   "cell_type": "code",
   "execution_count": 18,
   "id": "9fbb47ef",
   "metadata": {},
   "outputs": [
    {
     "name": "stdout",
     "output_type": "stream",
     "text": [
      "              precision    recall  f1-score   support\n",
      "\n",
      "           0       0.96      0.94      0.95      7421\n",
      "           1       0.42      0.54      0.47       579\n",
      "\n",
      "    accuracy                           0.91      8000\n",
      "   macro avg       0.69      0.74      0.71      8000\n",
      "weighted avg       0.92      0.91      0.92      8000\n",
      "\n",
      ">>>>>>>>> F1 score on test set: 0.4729214340198322\n"
     ]
    }
   ],
   "source": [
    "# look at classification_report\n",
    "y_pred = logit_fitted.predict(X_test)\n",
    "print(classification_report(y_test, y_pred))\n",
    "\n",
    "print(f'>>>>>>>>> F1 score on test set: {f1_score(y_test,y_pred)}')"
   ]
  },
  {
   "cell_type": "markdown",
   "id": "12cfdffa",
   "metadata": {},
   "source": [
    "## 2. Decision Tree <a class=\"anchor\" id=\"dt\"></a>"
   ]
  },
  {
   "cell_type": "code",
   "execution_count": 19,
   "id": "75fe2998",
   "metadata": {},
   "outputs": [
    {
     "name": "stdout",
     "output_type": "stream",
     "text": [
      "Fitting 5 folds for each of 10 candidates, totalling 50 fits\n",
      "\n",
      "Best param: {'randomoversampler__sampling_strategy': 0.3333333333333333, 'decisiontreeclassifier__min_samples_split': 12, 'decisiontreeclassifier__min_samples_leaf': 16, 'decisiontreeclassifier__min_impurity_decrease': 0.0001, 'decisiontreeclassifier__max_leaf_nodes': 50, 'decisiontreeclassifier__max_features': 7, 'decisiontreeclassifier__max_depth': 6, 'decisiontreeclassifier__class_weight': None}\n",
      "\n",
      "Mean validation's F1 score: 0.21141237643200766\n",
      "\n",
      "Train accuracy: 0.892\n",
      "Test accuracy: 0.885\n",
      "Accuracy difference: 0.007\n"
     ]
    }
   ],
   "source": [
    "class_counts=y_train.value_counts()\n",
    "total_samples=len(y_train)\n",
    "cw = {0: total_samples/(2*class_counts[0]),\\\n",
    "      1: total_samples/(2*class_counts[1]),}\n",
    "\n",
    "kf = StratifiedKFold(n_splits=5, shuffle=True, random_state=11)\n",
    "\n",
    "imba_pipeline = make_pipeline(\n",
    "            RandomOverSampler(random_state=101),\n",
    "            make_column_transformer((OneHotEncoder(drop = 'first'), \n",
    "                                    make_column_selector(dtype_include=object)),\n",
    "                                    remainder='passthrough'),\n",
    "            DecisionTreeClassifier(random_state=999))\n",
    "\n",
    "param_grid = {'decisiontreeclassifier__max_depth': list(range(2,11)),\n",
    "              'decisiontreeclassifier__min_samples_split':list(range(5,21)),         \n",
    "              'decisiontreeclassifier__min_samples_leaf':list(range(5,21)),         \n",
    "              'decisiontreeclassifier__max_features':list(range(2,14)),\n",
    "              'decisiontreeclassifier__max_leaf_nodes':list(range(5,51,5)),\n",
    "              'decisiontreeclassifier__min_impurity_decrease':[10**i for i in range (-6,-2)],\n",
    "              'decisiontreeclassifier__class_weight':[cw,None],\n",
    "              'randomoversampler__sampling_strategy': [1/2,1/3,1/4]}\n",
    "\n",
    "dt = RandomizedSearchCV(imba_pipeline, param_grid, scoring='f1', cv=kf, n_jobs = -1, verbose=1, random_state=545)\n",
    "dt_fitted = dt.fit(X_train, y_train)\n",
    "\n",
    "print(f'\\nBest param: {dt_fitted.best_params_}')\n",
    "\n",
    "# mean validation score\n",
    "print(f\"\\nMean validation's F1 score: {dt_fitted.cv_results_['mean_test_score'].mean()}\")\n",
    "\n",
    "# score\n",
    "print('\\nTrain accuracy: %.3f' % accuracy_score(y_train, dt_fitted.predict(X_train)))\n",
    "print('Test accuracy: %.3f' % accuracy_score(y_test, dt_fitted.predict(X_test)))\n",
    "print('Accuracy difference: %.3f' % (accuracy_score(y_train, dt_fitted.predict(X_train))-accuracy_score(y_test, dt_fitted.predict(X_test))).round(4))"
   ]
  },
  {
   "cell_type": "code",
   "execution_count": 20,
   "id": "b9fcad92",
   "metadata": {},
   "outputs": [
    {
     "name": "stdout",
     "output_type": "stream",
     "text": [
      "              precision    recall  f1-score   support\n",
      "\n",
      "           0       0.97      0.90      0.94      7421\n",
      "           1       0.35      0.66      0.45       579\n",
      "\n",
      "    accuracy                           0.89      8000\n",
      "   macro avg       0.66      0.78      0.69      8000\n",
      "weighted avg       0.93      0.89      0.90      8000\n",
      "\n",
      ">>>>>>>>> F1 score on test set: 0.4536817102137767\n"
     ]
    }
   ],
   "source": [
    "# look at classification_report\n",
    "y_pred = dt_fitted.predict(X_test)\n",
    "print(classification_report(y_test, y_pred))\n",
    "\n",
    "print(f'>>>>>>>>> F1 score on test set: {f1_score(y_test,y_pred)}')"
   ]
  },
  {
   "cell_type": "markdown",
   "id": "fb41bfdd",
   "metadata": {},
   "source": [
    "## 3. Random Forest <a class=\"anchor\" id=\"rf\"></a>"
   ]
  },
  {
   "cell_type": "code",
   "execution_count": 21,
   "id": "d18f0857",
   "metadata": {},
   "outputs": [
    {
     "name": "stdout",
     "output_type": "stream",
     "text": [
      "Fitting 5 folds for each of 10 candidates, totalling 50 fits\n",
      "\n",
      "Best param: {'randomoversampler__sampling_strategy': 0.5, 'randomforestclassifier__n_estimators': 40, 'randomforestclassifier__min_samples_split': 11, 'randomforestclassifier__min_samples_leaf': 20, 'randomforestclassifier__min_impurity_decrease': 1e-06, 'randomforestclassifier__max_leaf_nodes': 25, 'randomforestclassifier__max_features': 12, 'randomforestclassifier__max_depth': 6, 'randomforestclassifier__class_weight': None}\n",
      "\n",
      "Mean validation's F1 score: 0.3723589150153071\n",
      "\n",
      "Train accuracy: 0.893\n",
      "Test accuracy: 0.893\n",
      "Accuracy difference: -0.000\n"
     ]
    }
   ],
   "source": [
    "class_counts=y_train.value_counts()\n",
    "total_samples=len(y_train)\n",
    "cw = {0: total_samples/(2*class_counts[0]),\\\n",
    "      1: total_samples/(2*class_counts[1]),}\n",
    "\n",
    "kf = StratifiedKFold(n_splits=5, shuffle=True, random_state=11)\n",
    "\n",
    "imba_pipeline = make_pipeline(\n",
    "            RandomOverSampler(random_state=101),\n",
    "            make_column_transformer((OneHotEncoder(drop = 'first'), \n",
    "                                    make_column_selector(dtype_include=object)),\n",
    "                                    remainder='passthrough'),\n",
    "            RandomForestClassifier(random_state=1, class_weight=cw))\n",
    "\n",
    "# set up params\n",
    "param_grid = {'randomforestclassifier__n_estimators':list(range(5,101,5)),\n",
    "              'randomforestclassifier__max_depth':list(range(2,11)),\n",
    "              'randomforestclassifier__min_samples_leaf':list(range(5,21)),         \n",
    "              'randomforestclassifier__min_samples_split':list(range(5,21)),         \n",
    "              'randomforestclassifier__max_features':list(range(2,14)),\n",
    "              'randomforestclassifier__max_leaf_nodes':list(range(5,51,5)),\n",
    "              'randomforestclassifier__min_impurity_decrease':[10**i for i in range (-6,-2)],\n",
    "              'randomforestclassifier__class_weight':[cw, None],\n",
    "              'randomoversampler__sampling_strategy': [1/2,1/3,1/4]}\n",
    "\n",
    "rf = RandomizedSearchCV(imba_pipeline, param_grid, scoring = 'f1', cv=kf, n_jobs = -1, verbose=1, random_state=545)\n",
    "rf_fitted = rf.fit(X_train, y_train)\n",
    "\n",
    "print(f'\\nBest param: {rf_fitted.best_params_}')\n",
    "\n",
    "# mean validation score\n",
    "print(f\"\\nMean validation's F1 score: {rf_fitted.cv_results_['mean_test_score'].mean()}\")\n",
    "\n",
    "# score\n",
    "print('\\nTrain accuracy: %.3f' % accuracy_score(y_train, rf_fitted.predict(X_train)))\n",
    "print('Test accuracy: %.3f' % accuracy_score(y_test, rf_fitted.predict(X_test)))\n",
    "print('Accuracy difference: %.3f' % (accuracy_score(y_train, rf_fitted.predict(X_train))-accuracy_score(y_test, rf_fitted.predict(X_test))).round(4))"
   ]
  },
  {
   "cell_type": "code",
   "execution_count": 22,
   "id": "a0dfdd4b",
   "metadata": {},
   "outputs": [
    {
     "name": "stdout",
     "output_type": "stream",
     "text": [
      "              precision    recall  f1-score   support\n",
      "\n",
      "           0       0.98      0.90      0.94      7421\n",
      "           1       0.39      0.81      0.52       579\n",
      "\n",
      "    accuracy                           0.89      8000\n",
      "   macro avg       0.69      0.86      0.73      8000\n",
      "weighted avg       0.94      0.89      0.91      8000\n",
      "\n",
      ">>>>>>>>> F1 score on test set: 0.5245535714285714\n"
     ]
    }
   ],
   "source": [
    "# look at classification_report\n",
    "y_pred = rf_fitted.predict(X_test)\n",
    "print(classification_report(y_test, y_pred))\n",
    "\n",
    "print(f'>>>>>>>>> F1 score on test set: {f1_score(y_test,y_pred)}')"
   ]
  },
  {
   "cell_type": "markdown",
   "id": "9cb87895",
   "metadata": {},
   "source": [
    "# 4. XGBoost <a class=\"anchor\" id=\"xgb\"></a>"
   ]
  },
  {
   "cell_type": "code",
   "execution_count": 23,
   "id": "e4597eda",
   "metadata": {},
   "outputs": [
    {
     "name": "stdout",
     "output_type": "stream",
     "text": [
      "Fitting 5 folds for each of 10 candidates, totalling 50 fits\n",
      "\n",
      "Best param: {'xgbclassifier__scale_pos_weight': None, 'xgbclassifier__n_estimators': 50, 'xgbclassifier__max_depth': 8, 'xgbclassifier__learning_rate': 0.0107, 'xgbclassifier__lambda': 0.01, 'xgbclassifier__gamma': 0.0087, 'randomoversampler__sampling_strategy': 0.3333333333333333}\n",
      "\n",
      "Mean validation's F1 score: 0.441205349748817\n",
      "\n",
      "Train accuracy: 0.928\n",
      "Test accuracy: 0.912\n",
      "Accuracy difference: 0.015\n"
     ]
    }
   ],
   "source": [
    "class_counts=y_train.value_counts()\n",
    "class_weight= class_counts[0]/class_counts[1]\n",
    "\n",
    "kf = StratifiedKFold(n_splits=5, shuffle=True, random_state=11)\n",
    "\n",
    "imba_pipeline = make_pipeline(\n",
    "            RandomOverSampler(random_state=101),\n",
    "            make_column_transformer((OneHotEncoder(drop = 'first'), \n",
    "                                    make_column_selector(dtype_include=object)),\n",
    "                                    remainder='passthrough'),\n",
    "            XGBClassifier(random_state=22))\n",
    "\n",
    "# set up params\n",
    "param_grid = {\n",
    "    'xgbclassifier__n_estimators': list(range(5,101,5)),\n",
    "    'xgbclassifier__max_depth': list(range(2,11)),\n",
    "    'xgbclassifier__learning_rate': list(np.arange(0.0001,0.011,0.0001)),\n",
    "    'xgbclassifier__lambda': list(np.arange(0.0001,0.011,0.0001)),\n",
    "    'xgbclassifier__gamma': list(np.arange(0.0001,0.011,0.0001)),\n",
    "    'xgbclassifier__scale_pos_weight': [class_weight,None],\n",
    "    'randomoversampler__sampling_strategy': [1/2,1/3,1/4]}\n",
    "\n",
    "xg = RandomizedSearchCV(imba_pipeline, param_grid, scoring='f1', cv=kf, n_jobs = -1, verbose=1, random_state=545)\n",
    "xg_fitted = xg.fit(X_train, y_train)\n",
    "\n",
    "print(f'\\nBest param: {xg_fitted.best_params_}')\n",
    "\n",
    "# mean validation score\n",
    "print(f\"\\nMean validation's F1 score: {xg_fitted.cv_results_['mean_test_score'].mean()}\")\n",
    "\n",
    "# score\n",
    "print('\\nTrain accuracy: %.3f' % accuracy_score(y_train, xg_fitted.predict(X_train)))\n",
    "print('Test accuracy: %.3f' % accuracy_score(y_test, xg_fitted.predict(X_test)))\n",
    "print('Accuracy difference: %.3f' % (accuracy_score(y_train, xg_fitted.predict(X_train))-accuracy_score(y_test, xg_fitted.predict(X_test))).round(4))"
   ]
  },
  {
   "cell_type": "code",
   "execution_count": 24,
   "id": "117f7c18",
   "metadata": {},
   "outputs": [
    {
     "name": "stdout",
     "output_type": "stream",
     "text": [
      "              precision    recall  f1-score   support\n",
      "\n",
      "           0       0.98      0.92      0.95      7421\n",
      "           1       0.44      0.77      0.56       579\n",
      "\n",
      "    accuracy                           0.91      8000\n",
      "   macro avg       0.71      0.85      0.75      8000\n",
      "weighted avg       0.94      0.91      0.92      8000\n",
      "\n",
      ">>>>>>>>> F1 score on test set: 0.5584905660377358\n"
     ]
    }
   ],
   "source": [
    "# look at classification_report\n",
    "y_pred = xg_fitted.predict(X_test)\n",
    "print(classification_report(y_test, y_pred))\n",
    "\n",
    "print(f'>>>>>>>>> F1 score on test set: {f1_score(y_test,y_pred)}')"
   ]
  },
  {
   "cell_type": "markdown",
   "id": "085aaaae",
   "metadata": {},
   "source": [
    "Metric         | Logistic Regression |Decision Tree |Random Forest |XGBoost        \n",
    "---------------|---------------------|--------------|--------------|-------\n",
    "Train Accuracy | 0.919               |0.892         | 0.893        | 0.928\n",
    "Test Accuracy  | 0.914               |0.885         | 0.893        | 0.912\n",
    "F1 score       | 0.47                |0.45          | 0.52         | 0.56\n",
    "\n",
    "---\n",
    "\n",
    "Looking at the result table, we see that XGBoost outperforms other models with the highest accuracy and f1 scores. Therefore, I would choose it as the optimal model for this dataset."
   ]
  },
  {
   "cell_type": "markdown",
   "id": "6db90f83",
   "metadata": {},
   "source": [
    "# Threshold Adjustment <a class=\"anchor\" id=\"ta\"></a>"
   ]
  },
  {
   "cell_type": "code",
   "execution_count": 25,
   "id": "c68cb2ed",
   "metadata": {},
   "outputs": [
    {
     "name": "stderr",
     "output_type": "stream",
     "text": [
      "No artists with labels found to put in legend.  Note that artists whose label start with an underscore are ignored when legend() is called with no argument.\n"
     ]
    },
    {
     "data": {
      "image/png": "[encoded data removed]",
      "text/plain": [
       "<Figure size 640x480 with 1 Axes>"
      ]
     },
     "metadata": {},
     "output_type": "display_data"
    }
   ],
   "source": [
    "thresholds = np.arange(0, 1.1, 0.01)\n",
    "f1 = []\n",
    "\n",
    "y_test_proba=xg_fitted.predict_proba(X_test)[:, 1]\n",
    "\n",
    "for threshold in thresholds:\n",
    "\n",
    "    # Apply threshold\n",
    "    y_threshold = np.where(y_test_proba >= threshold, 1, 0)\n",
    "    f1.append(f1_score(y_test, y_threshold))\n",
    "\n",
    "# plot    \n",
    "plt.figure()\n",
    "plt.plot(thresholds, f1, color='darkorange', marker='.')\n",
    "plt.plot([0, 1], [0, 1], color='navy', linestyle='--')\n",
    "plt.xlim(0, 1)\n",
    "plt.xlabel('threshold')\n",
    "plt.ylabel('F1 score')\n",
    "plt.legend()\n",
    "plt.show()"
   ]
  },
  {
   "cell_type": "code",
   "execution_count": 26,
   "id": "8b76b8b0",
   "metadata": {
    "scrolled": true
   },
   "outputs": [
    {
     "name": "stdout",
     "output_type": "stream",
     "text": [
      "Optimal threshold: 0.52\n",
      "\n",
      "Highest F1 score: 0.5693135935397039\n"
     ]
    }
   ],
   "source": [
    "# get index of the highest f1\n",
    "highest_f1_index=np.argmax(f1)\n",
    "\n",
    "# get the threshold giving the highest f1 \n",
    "optimal_threshold=thresholds[highest_f1_index]\n",
    "\n",
    "print(f'Optimal threshold: {optimal_threshold}')\n",
    "print(f'\\nHighest F1 score: {f1[highest_f1_index]}')"
   ]
  },
  {
   "cell_type": "markdown",
   "id": "3672b5c0",
   "metadata": {},
   "source": [
    "Let's see how much accuracy score we can get with this threshold."
   ]
  },
  {
   "cell_type": "code",
   "execution_count": 27,
   "id": "6fd7234a",
   "metadata": {
    "scrolled": true
   },
   "outputs": [
    {
     "name": "stdout",
     "output_type": "stream",
     "text": [
      "Train Accuracy: 0.935\n",
      "Test Accuracy: 0.920\n",
      "Accuracy difference:  0.015\n"
     ]
    }
   ],
   "source": [
    "y_train_proba=xg_fitted.predict_proba(X_train)[:, 1]\n",
    "y_test_proba=xg_fitted.predict_proba(X_test)[:, 1]\n",
    "\n",
    "y_train_threshold = np.where(y_train_proba >= optimal_threshold, 1, 0)\n",
    "y_test_threshold = np.where(y_test_proba >= optimal_threshold, 1, 0)\n",
    "\n",
    "print(f'Train Accuracy: %.3f' % accuracy_score(y_train, y_train_threshold))\n",
    "print(f'Test Accuracy: %.3f' % accuracy_score(y_test, y_test_threshold))\n",
    "print(f'Accuracy difference:  %.3f' % (accuracy_score(y_train, y_train_threshold)-accuracy_score(y_test, y_test_threshold)).round(4))"
   ]
  },
  {
   "cell_type": "markdown",
   "id": "49036540",
   "metadata": {},
   "source": [
    "# Conclusion <a class=\"anchor\" id=\"conclusion\"></a>\n",
    "\n",
    "Afterall, I would choose XGBoost at threshold **0.52** as the optimal model for this dataset."
   ]
  },
  {
   "cell_type": "markdown",
   "id": "2e148349",
   "metadata": {},
   "source": [
    "# Feature Selection <a class=\"anchor\" id=\"fs\"></a>"
   ]
  },
  {
   "cell_type": "markdown",
   "id": "6bb93f8a",
   "metadata": {},
   "source": [
    "Since this dataset contains a mix of categorical and numeric values, I would utilize **Feature Importance** since it can select features across categorical and numeric types.\n",
    "\n",
    "Importance scores will be derived from the most optimal model that has been found - XGBoost."
   ]
  },
  {
   "cell_type": "code",
   "execution_count": 34,
   "id": "5e48555f",
   "metadata": {
    "scrolled": true
   },
   "outputs": [
    {
     "data": {
      "image/png": "[encoded data removed]",
      "text/plain": [
       "<Figure size 640x480 with 1 Axes>"
      ]
     },
     "metadata": {},
     "output_type": "display_data"
    }
   ],
   "source": [
    "# In the final model, I would apply OneHotEncode (OHE) for the categorical features, \n",
    "# but to determine feature importance, I don't want to expand the columns with OHE, \n",
    "# also I believe that we'll get more value out of treating them as one column with ordinal encoded values.\n",
    "\n",
    "fs_pipeline = make_pipeline(\n",
    "            RandomOverSampler(random_state=101, sampling_strategy=1/3),\n",
    "            make_column_transformer((OrdinalEncoder(), \n",
    "                                     make_column_selector(dtype_include=object)),\n",
    "                                     remainder='passthrough'),\n",
    "            XGBClassifier(random_state=22, \n",
    "                        n_estimators=50,\n",
    "                        max_depth=8,\n",
    "                        learning_rate=0.0107,\n",
    "                        reg_lambda=0.01,\n",
    "                        gamma=0.0087))\n",
    "\n",
    "xg_fs = fs_pipeline.fit(X_train, y_train)\n",
    "\n",
    "# get feature importance\n",
    "f_importance=xg_fs.named_steps['xgbclassifier'].get_booster().get_score(importance_type='gain')\n",
    "\n",
    "# put into a dataframe\n",
    "importance_df = pd.DataFrame(f_importance.values(), index=X_train.columns, columns=['Feature Importance']).sort_values(by='Feature Importance', ascending=False)\n",
    "importance_df.sort_values(by='Feature Importance').plot.barh()\n",
    "plt.show()"
   ]
  },
  {
   "cell_type": "markdown",
   "id": "916e038e",
   "metadata": {},
   "source": [
    "We see that `duration` scores exceptionally higher than other features, while `balance` surprisingly ranks almost last in terms of importance level."
   ]
  },
  {
   "cell_type": "code",
   "execution_count": 39,
   "id": "186eb0d8",
   "metadata": {
    "scrolled": true
   },
   "outputs": [
    {
     "data": {
      "image/png": "[encoded data removed]",
      "text/plain": [
       "<Figure size 640x480 with 1 Axes>"
      ]
     },
     "metadata": {},
     "output_type": "display_data"
    }
   ],
   "source": [
    "# let's look at how different sets of top features work\n",
    "fs = make_pipeline(\n",
    "            RandomOverSampler(random_state=101, sampling_strategy=1/3),\n",
    "            make_column_transformer((OneHotEncoder(drop = 'first'), \n",
    "                                    make_column_selector(dtype_include=object)),\n",
    "                                    remainder='passthrough'),\n",
    "            XGBClassifier(random_state=22, \n",
    "                        n_estimators=50,\n",
    "                        max_depth=8,\n",
    "                        learning_rate=0.0107,\n",
    "                        reg_lambda=0.01,\n",
    "                        gamma=0.0087))\n",
    "train_f1=[]\n",
    "test_f1=[]\n",
    "\n",
    "for i in range (len(importance_df.index)):\n",
    "    # define dataframes\n",
    "    X_train_fs=X_train[[importance_df.index[i]]]\n",
    "    X_test_fs=X_test[[importance_df.index[i]]]\n",
    "\n",
    "    # fit\n",
    "    fs.fit(X_train_fs, y_train)\n",
    "    \n",
    "    # predict \n",
    "    y_train_proba=fs.predict_proba(X_train_fs)[:, 1]\n",
    "    y_test_proba=fs.predict_proba(X_test_fs)[:, 1]\n",
    "\n",
    "    # apply optimal threshold\n",
    "    y_train_threshold = np.where(y_train_proba >= 0.52, 1, 0)\n",
    "    y_test_threshold = np.where(y_test_proba >= 0.52, 1, 0)\n",
    "    \n",
    "    #score\n",
    "    train_f1.append(f1_score(y_train, y_train_threshold))\n",
    "    test_f1.append(f1_score(y_test, y_test_threshold))\n",
    "\n",
    "#plot\n",
    "plt.figure()\n",
    "plt.plot(range(1,len(importance_df.index)+1), train_f1, label=\"train\")\n",
    "plt.plot(range(1,len(importance_df.index)+1), test_f1, label=\"test\")\n",
    "plt.xticks(range(1,len(importance_df.index)+1))\n",
    "plt.xlabel('Number of features')\n",
    "plt.ylabel(\"F1 score\")\n",
    "plt.title(\"Performance on Train/Test set\")\n",
    "plt.legend()\n",
    "plt.show()\n"
   ]
  },
  {
   "cell_type": "markdown",
   "id": "a7e610a6",
   "metadata": {},
   "source": [
    "We see that adding more features after `duration` drops F1 scores dramatically, and it starts to plateau at 0 after 3 features. Therefore, `duration` and `month` could be said to be the most important features. \n",
    "\n",
    "Let's see the picture of registers and non-registers."
   ]
  },
  {
   "cell_type": "code",
   "execution_count": 30,
   "id": "788d00b6",
   "metadata": {
    "scrolled": false
   },
   "outputs": [
    {
     "data": {
      "image/png": "[encoded data removed]",
      "text/plain": [
       "<Figure size 1800x1000 with 16 Axes>"
      ]
     },
     "metadata": {},
     "output_type": "display_data"
    }
   ],
   "source": [
    "# Plot histogram distribution for registers and non-registers\n",
    "non_registers=df[df['y']==0]\n",
    "registers=df[df['y']==1]\n",
    "\n",
    "plt.subplots(4,4, figsize=(18,10))\n",
    "for i in range (14):\n",
    "    plt.subplot(4,4,i+1)\n",
    "    plt.hist([non_registers.iloc[:,i], registers.iloc[:,i]], label=['Non-registers', 'Registers'] )\n",
    "    plt.title(registers.iloc[:,i].name)\n",
    "    plt.legend(loc='upper right')\n",
    "plt.tight_layout()\n",
    "plt.show()"
   ]
  },
  {
   "cell_type": "markdown",
   "id": "9aebdb55",
   "metadata": {},
   "source": [
    "We can see that **May** tends to be the most productive month in the year, and **long-duration calls** are more likely to influence the customers."
   ]
  },
  {
   "cell_type": "markdown",
   "id": "5e8347ec",
   "metadata": {},
   "source": [
    "# Prioritized Segment <a class=\"anchor\" id=\"ps\"></a>"
   ]
  },
  {
   "cell_type": "markdown",
   "id": "531c46b4",
   "metadata": {},
   "source": [
    "Let's look at those who the model predicts to register but they turn out not."
   ]
  },
  {
   "cell_type": "code",
   "execution_count": 36,
   "id": "081e8e07",
   "metadata": {
    "scrolled": true
   },
   "outputs": [
    {
     "data": {
      "text/html": [
       "<div>\n",
       "<style scoped>\n",
       "    .dataframe tbody tr th:only-of-type {\n",
       "        vertical-align: middle;\n",
       "    }\n",
       "\n",
       "    .dataframe tbody tr th {\n",
       "        vertical-align: top;\n",
       "    }\n",
       "\n",
       "    .dataframe thead th {\n",
       "        text-align: right;\n",
       "    }\n",
       "</style>\n",
       "<table border=\"1\" class=\"dataframe\">\n",
       "  <thead>\n",
       "    <tr style=\"text-align: right;\">\n",
       "      <th></th>\n",
       "      <th>age</th>\n",
       "      <th>job</th>\n",
       "      <th>marital</th>\n",
       "      <th>education</th>\n",
       "      <th>default</th>\n",
       "      <th>balance</th>\n",
       "      <th>housing</th>\n",
       "      <th>loan</th>\n",
       "      <th>contact</th>\n",
       "      <th>day</th>\n",
       "      <th>month</th>\n",
       "      <th>duration</th>\n",
       "      <th>campaign</th>\n",
       "      <th>y</th>\n",
       "      <th>Prediction</th>\n",
       "    </tr>\n",
       "  </thead>\n",
       "  <tbody>\n",
       "    <tr>\n",
       "      <th>37</th>\n",
       "      <td>53.0</td>\n",
       "      <td>technician</td>\n",
       "      <td>married</td>\n",
       "      <td>secondary</td>\n",
       "      <td>0.0</td>\n",
       "      <td>-3.0</td>\n",
       "      <td>0.0</td>\n",
       "      <td>0.0</td>\n",
       "      <td>unknown</td>\n",
       "      <td>5.0</td>\n",
       "      <td>5.0</td>\n",
       "      <td>1666.0</td>\n",
       "      <td>1.0</td>\n",
       "      <td>0.0</td>\n",
       "      <td>1.0</td>\n",
       "    </tr>\n",
       "    <tr>\n",
       "      <th>43</th>\n",
       "      <td>54.0</td>\n",
       "      <td>retired</td>\n",
       "      <td>married</td>\n",
       "      <td>secondary</td>\n",
       "      <td>0.0</td>\n",
       "      <td>529.0</td>\n",
       "      <td>1.0</td>\n",
       "      <td>0.0</td>\n",
       "      <td>unknown</td>\n",
       "      <td>5.0</td>\n",
       "      <td>5.0</td>\n",
       "      <td>1492.0</td>\n",
       "      <td>1.0</td>\n",
       "      <td>0.0</td>\n",
       "      <td>1.0</td>\n",
       "    </tr>\n",
       "    <tr>\n",
       "      <th>59</th>\n",
       "      <td>46.0</td>\n",
       "      <td>services</td>\n",
       "      <td>married</td>\n",
       "      <td>primary</td>\n",
       "      <td>0.0</td>\n",
       "      <td>179.0</td>\n",
       "      <td>1.0</td>\n",
       "      <td>0.0</td>\n",
       "      <td>unknown</td>\n",
       "      <td>5.0</td>\n",
       "      <td>5.0</td>\n",
       "      <td>1778.0</td>\n",
       "      <td>1.0</td>\n",
       "      <td>0.0</td>\n",
       "      <td>1.0</td>\n",
       "    </tr>\n",
       "    <tr>\n",
       "      <th>61</th>\n",
       "      <td>53.0</td>\n",
       "      <td>technician</td>\n",
       "      <td>divorced</td>\n",
       "      <td>secondary</td>\n",
       "      <td>0.0</td>\n",
       "      <td>989.0</td>\n",
       "      <td>1.0</td>\n",
       "      <td>0.0</td>\n",
       "      <td>unknown</td>\n",
       "      <td>5.0</td>\n",
       "      <td>5.0</td>\n",
       "      <td>812.0</td>\n",
       "      <td>1.0</td>\n",
       "      <td>0.0</td>\n",
       "      <td>1.0</td>\n",
       "    </tr>\n",
       "    <tr>\n",
       "      <th>109</th>\n",
       "      <td>45.0</td>\n",
       "      <td>management</td>\n",
       "      <td>married</td>\n",
       "      <td>tertiary</td>\n",
       "      <td>0.0</td>\n",
       "      <td>523.0</td>\n",
       "      <td>1.0</td>\n",
       "      <td>0.0</td>\n",
       "      <td>unknown</td>\n",
       "      <td>5.0</td>\n",
       "      <td>5.0</td>\n",
       "      <td>849.0</td>\n",
       "      <td>2.0</td>\n",
       "      <td>0.0</td>\n",
       "      <td>1.0</td>\n",
       "    </tr>\n",
       "    <tr>\n",
       "      <th>...</th>\n",
       "      <td>...</td>\n",
       "      <td>...</td>\n",
       "      <td>...</td>\n",
       "      <td>...</td>\n",
       "      <td>...</td>\n",
       "      <td>...</td>\n",
       "      <td>...</td>\n",
       "      <td>...</td>\n",
       "      <td>...</td>\n",
       "      <td>...</td>\n",
       "      <td>...</td>\n",
       "      <td>...</td>\n",
       "      <td>...</td>\n",
       "      <td>...</td>\n",
       "      <td>...</td>\n",
       "    </tr>\n",
       "    <tr>\n",
       "      <th>39960</th>\n",
       "      <td>27.0</td>\n",
       "      <td>technician</td>\n",
       "      <td>single</td>\n",
       "      <td>tertiary</td>\n",
       "      <td>0.0</td>\n",
       "      <td>200.0</td>\n",
       "      <td>0.0</td>\n",
       "      <td>0.0</td>\n",
       "      <td>cellular</td>\n",
       "      <td>3.0</td>\n",
       "      <td>6.0</td>\n",
       "      <td>508.0</td>\n",
       "      <td>1.0</td>\n",
       "      <td>0.0</td>\n",
       "      <td>1.0</td>\n",
       "    </tr>\n",
       "    <tr>\n",
       "      <th>39991</th>\n",
       "      <td>33.0</td>\n",
       "      <td>services</td>\n",
       "      <td>single</td>\n",
       "      <td>tertiary</td>\n",
       "      <td>0.0</td>\n",
       "      <td>1268.0</td>\n",
       "      <td>1.0</td>\n",
       "      <td>0.0</td>\n",
       "      <td>cellular</td>\n",
       "      <td>3.0</td>\n",
       "      <td>6.0</td>\n",
       "      <td>2219.0</td>\n",
       "      <td>1.0</td>\n",
       "      <td>0.0</td>\n",
       "      <td>1.0</td>\n",
       "    </tr>\n",
       "    <tr>\n",
       "      <th>39992</th>\n",
       "      <td>45.0</td>\n",
       "      <td>technician</td>\n",
       "      <td>married</td>\n",
       "      <td>secondary</td>\n",
       "      <td>0.0</td>\n",
       "      <td>406.0</td>\n",
       "      <td>1.0</td>\n",
       "      <td>0.0</td>\n",
       "      <td>cellular</td>\n",
       "      <td>3.0</td>\n",
       "      <td>6.0</td>\n",
       "      <td>240.0</td>\n",
       "      <td>1.0</td>\n",
       "      <td>0.0</td>\n",
       "      <td>1.0</td>\n",
       "    </tr>\n",
       "    <tr>\n",
       "      <th>39994</th>\n",
       "      <td>35.0</td>\n",
       "      <td>management</td>\n",
       "      <td>married</td>\n",
       "      <td>tertiary</td>\n",
       "      <td>0.0</td>\n",
       "      <td>3109.0</td>\n",
       "      <td>1.0</td>\n",
       "      <td>0.0</td>\n",
       "      <td>cellular</td>\n",
       "      <td>3.0</td>\n",
       "      <td>6.0</td>\n",
       "      <td>467.0</td>\n",
       "      <td>1.0</td>\n",
       "      <td>0.0</td>\n",
       "      <td>1.0</td>\n",
       "    </tr>\n",
       "    <tr>\n",
       "      <th>39998</th>\n",
       "      <td>34.0</td>\n",
       "      <td>management</td>\n",
       "      <td>married</td>\n",
       "      <td>tertiary</td>\n",
       "      <td>0.0</td>\n",
       "      <td>1047.0</td>\n",
       "      <td>0.0</td>\n",
       "      <td>0.0</td>\n",
       "      <td>cellular</td>\n",
       "      <td>3.0</td>\n",
       "      <td>6.0</td>\n",
       "      <td>342.0</td>\n",
       "      <td>1.0</td>\n",
       "      <td>0.0</td>\n",
       "      <td>1.0</td>\n",
       "    </tr>\n",
       "  </tbody>\n",
       "</table>\n",
       "<p>2153 rows × 15 columns</p>\n",
       "</div>"
      ],
      "text/plain": [
       "        age         job   marital  education  default  balance  housing  loan  \\\n",
       "37     53.0  technician   married  secondary      0.0     -3.0      0.0   0.0   \n",
       "43     54.0     retired   married  secondary      0.0    529.0      1.0   0.0   \n",
       "59     46.0    services   married    primary      0.0    179.0      1.0   0.0   \n",
       "61     53.0  technician  divorced  secondary      0.0    989.0      1.0   0.0   \n",
       "109    45.0  management   married   tertiary      0.0    523.0      1.0   0.0   \n",
       "...     ...         ...       ...        ...      ...      ...      ...   ...   \n",
       "39960  27.0  technician    single   tertiary      0.0    200.0      0.0   0.0   \n",
       "39991  33.0    services    single   tertiary      0.0   1268.0      1.0   0.0   \n",
       "39992  45.0  technician   married  secondary      0.0    406.0      1.0   0.0   \n",
       "39994  35.0  management   married   tertiary      0.0   3109.0      1.0   0.0   \n",
       "39998  34.0  management   married   tertiary      0.0   1047.0      0.0   0.0   \n",
       "\n",
       "        contact  day  month  duration  campaign    y  Prediction  \n",
       "37      unknown  5.0    5.0    1666.0       1.0  0.0         1.0  \n",
       "43      unknown  5.0    5.0    1492.0       1.0  0.0         1.0  \n",
       "59      unknown  5.0    5.0    1778.0       1.0  0.0         1.0  \n",
       "61      unknown  5.0    5.0     812.0       1.0  0.0         1.0  \n",
       "109     unknown  5.0    5.0     849.0       2.0  0.0         1.0  \n",
       "...         ...  ...    ...       ...       ...  ...         ...  \n",
       "39960  cellular  3.0    6.0     508.0       1.0  0.0         1.0  \n",
       "39991  cellular  3.0    6.0    2219.0       1.0  0.0         1.0  \n",
       "39992  cellular  3.0    6.0     240.0       1.0  0.0         1.0  \n",
       "39994  cellular  3.0    6.0     467.0       1.0  0.0         1.0  \n",
       "39998  cellular  3.0    6.0     342.0       1.0  0.0         1.0  \n",
       "\n",
       "[2153 rows x 15 columns]"
      ]
     },
     "execution_count": 36,
     "metadata": {},
     "output_type": "execute_result"
    }
   ],
   "source": [
    "# predict the whole dataset\n",
    "y_df_proba=xg_fitted.predict_proba(df.drop(columns=['y']))[:, 1]\n",
    "y_df_threshold = np.where(y_df_proba >= 0.52, 1, 0)\n",
    "\n",
    "# add prediction to the dataset\n",
    "df['Prediction']=y_df_threshold\n",
    "\n",
    "# filter out the segment\n",
    "prioritized_segment=df.where((df['Prediction']==1) & (df['y']==0)).dropna()\n",
    "prioritized_segment"
   ]
  },
  {
   "cell_type": "markdown",
   "id": "0b174720",
   "metadata": {},
   "source": [
    "These **2153** customers are those who the model predicts that they should have been registers but actually not, which implies that they are very likely to be a success in the next calls. Therefore, it is recommended to put more marketing effort into these customers."
   ]
  }
 ],
 "metadata": {
  "kernelspec": {
   "display_name": "ensemble",
   "language": "python",
   "name": "ensemble"
  },
  "language_info": {
   "codemirror_mode": {
    "name": "ipython",
    "version": 3
   },
   "file_extension": ".py",
   "mimetype": "text/x-python",
   "name": "python",
   "nbconvert_exporter": "python",
   "pygments_lexer": "ipython3",
   "version": "3.8.16"
  }
 },
 "nbformat": 4,
 "nbformat_minor": 5
}
